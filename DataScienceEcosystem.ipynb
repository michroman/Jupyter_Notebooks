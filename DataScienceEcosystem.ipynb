{
 "cells": [
  {
   "cell_type": "markdown",
   "id": "d4522e62-70de-43ef-89a7-001bef9d64a6",
   "metadata": {
    "tags": []
   },
   "source": [
    "# Data Science Tools and Ecosystem"
   ]
  },
  {
   "cell_type": "markdown",
   "id": "abb605e9-6795-4324-8e4c-e07c4e5aaa08",
   "metadata": {},
   "source": [
    "In this notebook, Data Science Tools and Ecosystem are summarized."
   ]
  },
  {
   "cell_type": "markdown",
   "id": "06115de8-e06b-4c1d-a2ee-3a8e71fab09a",
   "metadata": {},
   "source": [
    "Some of the popular languages that Data Scientists use are:\n",
    "1. Python\n",
    "2. R\n",
    "3. SQL"
   ]
  },
  {
   "cell_type": "markdown",
   "id": "ddddaa41-4d4b-4437-be4a-70b7528bbd0b",
   "metadata": {},
   "source": [
    "Some of the commonly used libraries used by Data Scientists include:\n",
    "1. NumPy\n",
    "2. Pandas\n",
    "5. TensorFlow\n",
    "7. ggplot2"
   ]
  },
  {
   "cell_type": "markdown",
   "id": "5b82a334-36b4-4b6f-a4bb-b2a9123f1a02",
   "metadata": {},
   "source": [
    "| Data Science Tools |\n",
    "|--------------------|\n",
    "| RStudio |\n",
    "| Jupyter Notebook |\n",
    "| Spyder |"
   ]
  },
  {
   "cell_type": "markdown",
   "id": "24009f40-5816-40b3-b9a7-700252959012",
   "metadata": {},
   "source": [
    "### Below are a few examples of evaluating arithmetic expressions in Python"
   ]
  },
  {
   "cell_type": "code",
   "execution_count": 9,
   "id": "39f52e0a-5c88-4dc4-9e76-1773e22d9e3c",
   "metadata": {},
   "outputs": [
    {
     "data": {
      "text/plain": [
       "17"
      ]
     },
     "execution_count": 9,
     "metadata": {},
     "output_type": "execute_result"
    }
   ],
   "source": [
    "#This a simple arithmetic expression to mutiply then add integers\n",
    "(3*4)+5"
   ]
  },
  {
   "cell_type": "code",
   "execution_count": 10,
   "id": "543f5ebb-d835-4958-9cfb-81cc0f0bc5bc",
   "metadata": {},
   "outputs": [
    {
     "data": {
      "text/plain": [
       "3.3333333333333335"
      ]
     },
     "execution_count": 10,
     "metadata": {},
     "output_type": "execute_result"
    }
   ],
   "source": [
    "#This will convert 200 minutes to hours by diving by 60\n",
    "200/60"
   ]
  },
  {
   "cell_type": "markdown",
   "id": "c2e03132-bdd8-4f7c-a0ef-5d3eae23b687",
   "metadata": {},
   "source": [
    "**Objectives:**\n",
    "- Popular laguages in Data Science\n",
    "- Common libraries in Data Science\n",
    "- Tools in Data Science"
   ]
  },
  {
   "cell_type": "markdown",
   "id": "8ce64332-f92b-4787-b709-798739e3093e",
   "metadata": {},
   "source": [
    "## Author:\n",
    "Michael Romanenko"
   ]
  },
  {
   "cell_type": "code",
   "execution_count": null,
   "id": "0443568b-2dc0-490a-ad65-82e24c4c2bd1",
   "metadata": {},
   "outputs": [],
   "source": []
  }
 ],
 "metadata": {
  "kernelspec": {
   "display_name": "Python 3 (ipykernel)",
   "language": "python",
   "name": "python3"
  },
  "language_info": {
   "codemirror_mode": {
    "name": "ipython",
    "version": 3
   },
   "file_extension": ".py",
   "mimetype": "text/x-python",
   "name": "python",
   "nbconvert_exporter": "python",
   "pygments_lexer": "ipython3",
   "version": "3.10.9"
  }
 },
 "nbformat": 4,
 "nbformat_minor": 5
}
